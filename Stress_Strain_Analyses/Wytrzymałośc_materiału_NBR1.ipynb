{
  "nbformat": 4,
  "nbformat_minor": 0,
  "metadata": {
    "colab": {
      "name": "Wytrzymałośc materiału_NBR1.ipynb",
      "provenance": [],
      "collapsed_sections": [],
      "authorship_tag": "ABX9TyOnqL9vGB7GMU7td1xC17Gl",
      "include_colab_link": true
    },
    "kernelspec": {
      "name": "python3",
      "display_name": "Python 3"
    }
  },
  "cells": [
    {
      "cell_type": "markdown",
      "metadata": {
        "id": "view-in-github",
        "colab_type": "text"
      },
      "source": [
        "<a href=\"https://colab.research.google.com/github/mietekdom/Data_Science-Material_Science_Engineering_Projects/blob/main/Stress_Strain_Analyses/Wytrzyma%C5%82o%C5%9Bc_materia%C5%82u_NBR1.ipynb\" target=\"_parent\"><img src=\"https://colab.research.google.com/assets/colab-badge.svg\" alt=\"Open In Colab\"/></a>"
      ]
    },
    {
      "cell_type": "code",
      "metadata": {
        "id": "6UGesbXcdiAC"
      },
      "source": [
        "import pandas as pd\n",
        "import numpy as np"
      ],
      "execution_count": 1,
      "outputs": []
    },
    {
      "cell_type": "code",
      "metadata": {
        "id": "MrDs5I35dNEW",
        "outputId": "d445a476-106b-412e-94f8-3da764674281",
        "colab": {
          "base_uri": "https://localhost:8080/",
          "height": 394
        }
      },
      "source": [
        "df = pd.read_csv('./NBR1.csv', index_col=0)\n",
        "df.head(10)"
      ],
      "execution_count": 11,
      "outputs": [
        {
          "output_type": "execute_result",
          "data": {
            "text/html": [
              "<div>\n",
              "<style scoped>\n",
              "    .dataframe tbody tr th:only-of-type {\n",
              "        vertical-align: middle;\n",
              "    }\n",
              "\n",
              "    .dataframe tbody tr th {\n",
              "        vertical-align: top;\n",
              "    }\n",
              "\n",
              "    .dataframe thead th {\n",
              "        text-align: right;\n",
              "    }\n",
              "</style>\n",
              "<table border=\"1\" class=\"dataframe\">\n",
              "  <thead>\n",
              "    <tr style=\"text-align: right;\">\n",
              "      <th></th>\n",
              "      <th>C_0_Seconds[]</th>\n",
              "      <th>C_1_Cycle[]</th>\n",
              "      <th>C_1_Load[kN]</th>\n",
              "      <th>C_1_Stroke[mm]</th>\n",
              "    </tr>\n",
              "    <tr>\n",
              "      <th>S/No</th>\n",
              "      <th></th>\n",
              "      <th></th>\n",
              "      <th></th>\n",
              "      <th></th>\n",
              "    </tr>\n",
              "  </thead>\n",
              "  <tbody>\n",
              "    <tr>\n",
              "      <th>1</th>\n",
              "      <td>0.032938</td>\n",
              "      <td>0</td>\n",
              "      <td>0.020225</td>\n",
              "      <td>-0.002</td>\n",
              "    </tr>\n",
              "    <tr>\n",
              "      <th>2</th>\n",
              "      <td>0.033061</td>\n",
              "      <td>0</td>\n",
              "      <td>0.019436</td>\n",
              "      <td>-0.001</td>\n",
              "    </tr>\n",
              "    <tr>\n",
              "      <th>3</th>\n",
              "      <td>0.033185</td>\n",
              "      <td>0</td>\n",
              "      <td>0.019567</td>\n",
              "      <td>-0.001</td>\n",
              "    </tr>\n",
              "    <tr>\n",
              "      <th>4</th>\n",
              "      <td>0.033308</td>\n",
              "      <td>0</td>\n",
              "      <td>0.018994</td>\n",
              "      <td>-0.002</td>\n",
              "    </tr>\n",
              "    <tr>\n",
              "      <th>5</th>\n",
              "      <td>0.033431</td>\n",
              "      <td>0</td>\n",
              "      <td>0.019273</td>\n",
              "      <td>-0.002</td>\n",
              "    </tr>\n",
              "    <tr>\n",
              "      <th>6</th>\n",
              "      <td>0.033555</td>\n",
              "      <td>0</td>\n",
              "      <td>0.018383</td>\n",
              "      <td>-0.003</td>\n",
              "    </tr>\n",
              "    <tr>\n",
              "      <th>7</th>\n",
              "      <td>0.035035</td>\n",
              "      <td>0</td>\n",
              "      <td>0.013830</td>\n",
              "      <td>-0.006</td>\n",
              "    </tr>\n",
              "    <tr>\n",
              "      <th>8</th>\n",
              "      <td>0.040093</td>\n",
              "      <td>0</td>\n",
              "      <td>-0.033292</td>\n",
              "      <td>-0.038</td>\n",
              "    </tr>\n",
              "    <tr>\n",
              "      <th>9</th>\n",
              "      <td>0.045027</td>\n",
              "      <td>0</td>\n",
              "      <td>-0.141141</td>\n",
              "      <td>-0.137</td>\n",
              "    </tr>\n",
              "    <tr>\n",
              "      <th>10</th>\n",
              "      <td>0.050085</td>\n",
              "      <td>0</td>\n",
              "      <td>-0.275041</td>\n",
              "      <td>-0.280</td>\n",
              "    </tr>\n",
              "  </tbody>\n",
              "</table>\n",
              "</div>"
            ],
            "text/plain": [
              "      C_0_Seconds[]  C_1_Cycle[]  C_1_Load[kN]  C_1_Stroke[mm]\n",
              "S/No                                                          \n",
              "1          0.032938            0      0.020225          -0.002\n",
              "2          0.033061            0      0.019436          -0.001\n",
              "3          0.033185            0      0.019567          -0.001\n",
              "4          0.033308            0      0.018994          -0.002\n",
              "5          0.033431            0      0.019273          -0.002\n",
              "6          0.033555            0      0.018383          -0.003\n",
              "7          0.035035            0      0.013830          -0.006\n",
              "8          0.040093            0     -0.033292          -0.038\n",
              "9          0.045027            0     -0.141141          -0.137\n",
              "10         0.050085            0     -0.275041          -0.280"
            ]
          },
          "metadata": {
            "tags": []
          },
          "execution_count": 11
        }
      ]
    },
    {
      "cell_type": "code",
      "metadata": {
        "id": "dvzzeblbhaB8"
      },
      "source": [
        ""
      ],
      "execution_count": null,
      "outputs": []
    }
  ]
}