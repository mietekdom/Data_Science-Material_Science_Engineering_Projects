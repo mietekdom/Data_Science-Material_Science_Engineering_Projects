{
  "nbformat": 4,
  "nbformat_minor": 0,
  "metadata": {
    "colab": {
      "name": "TGA_01ipynb",
      "provenance": [],
      "collapsed_sections": [],
      "authorship_tag": "ABX9TyO8c2w0lfAyYnWvu9mX61m+",
      "include_colab_link": true
    },
    "kernelspec": {
      "name": "python3",
      "display_name": "Python 3"
    }
  },
  "cells": [
    {
      "cell_type": "markdown",
      "metadata": {
        "id": "view-in-github",
        "colab_type": "text"
      },
      "source": [
        "<a href=\"https://colab.research.google.com/github/mietekdom/Data_Science-Material_Science_Engineering_Projects/blob/main/TGA_visualisation/TGA_01ipynb.ipynb\" target=\"_parent\"><img src=\"https://colab.research.google.com/assets/colab-badge.svg\" alt=\"Open In Colab\"/></a>"
      ]
    },
    {
      "cell_type": "code",
      "metadata": {
        "id": "OcieGPPcpzvW",
        "outputId": "d671c393-e33e-4331-ab49-289b92b18104",
        "colab": {
          "base_uri": "https://localhost:8080/",
          "height": 86
        }
      },
      "source": [
        "import pandas as pd\n",
        "import numpy as np\n",
        "import plotly\n",
        "import plotly.express as px\n",
        "import seaborn as sns\n",
        "sns.set()\n",
        "\n",
        "\n",
        "print(f'Pandas: {pd.__version__}')\n",
        "print(f'Numpy: {np.__version__}')\n",
        "print(f'Ploty: {np.__version__}')\n",
        "print(f'Seaborn: {np.__version__}')"
      ],
      "execution_count": 1,
      "outputs": [
        {
          "output_type": "stream",
          "text": [
            "Pandas: 1.1.2\n",
            "Numpy: 1.18.5\n",
            "Ploty: 1.18.5\n",
            "Seaborn: 1.18.5\n"
          ],
          "name": "stdout"
        }
      ]
    },
    {
      "cell_type": "code",
      "metadata": {
        "id": "wDaFT3TvsQvl",
        "outputId": "5d82bcf4-bf7f-4b5f-d257-7f5e86502782",
        "colab": {
          "base_uri": "https://localhost:8080/",
          "height": 363
        }
      },
      "source": [
        "df = pd.read_csv('./NZP_10_APP2_3282019_838 PM_to_DS.csv')\n",
        "df.head(10)"
      ],
      "execution_count": 11,
      "outputs": [
        {
          "output_type": "execute_result",
          "data": {
            "text/html": [
              "<div>\n",
              "<style scoped>\n",
              "    .dataframe tbody tr th:only-of-type {\n",
              "        vertical-align: middle;\n",
              "    }\n",
              "\n",
              "    .dataframe tbody tr th {\n",
              "        vertical-align: top;\n",
              "    }\n",
              "\n",
              "    .dataframe thead th {\n",
              "        text-align: right;\n",
              "    }\n",
              "</style>\n",
              "<table border=\"1\" class=\"dataframe\">\n",
              "  <thead>\n",
              "    <tr style=\"text-align: right;\">\n",
              "      <th></th>\n",
              "      <th>Unnamed: 0</th>\n",
              "      <th>Unnamed: 1</th>\n",
              "      <th>Unnamed: 2</th>\n",
              "      <th>Unnamed: 3</th>\n",
              "      <th>Unnamed: 4</th>\n",
              "    </tr>\n",
              "  </thead>\n",
              "  <tbody>\n",
              "    <tr>\n",
              "      <th>0</th>\n",
              "      <td>0.000000</td>\n",
              "      <td>29.19</td>\n",
              "      <td>9.03</td>\n",
              "      <td>100.0</td>\n",
              "      <td>-1.10698</td>\n",
              "    </tr>\n",
              "    <tr>\n",
              "      <th>1</th>\n",
              "      <td>0.001667</td>\n",
              "      <td>29.19</td>\n",
              "      <td>9.03</td>\n",
              "      <td>100.0</td>\n",
              "      <td>-1.10710</td>\n",
              "    </tr>\n",
              "    <tr>\n",
              "      <th>2</th>\n",
              "      <td>0.003333</td>\n",
              "      <td>29.19</td>\n",
              "      <td>9.03</td>\n",
              "      <td>100.0</td>\n",
              "      <td>-1.10530</td>\n",
              "    </tr>\n",
              "    <tr>\n",
              "      <th>3</th>\n",
              "      <td>0.005000</td>\n",
              "      <td>29.19</td>\n",
              "      <td>9.03</td>\n",
              "      <td>100.0</td>\n",
              "      <td>-1.10214</td>\n",
              "    </tr>\n",
              "    <tr>\n",
              "      <th>4</th>\n",
              "      <td>0.006667</td>\n",
              "      <td>29.19</td>\n",
              "      <td>9.03</td>\n",
              "      <td>100.0</td>\n",
              "      <td>-1.09933</td>\n",
              "    </tr>\n",
              "    <tr>\n",
              "      <th>5</th>\n",
              "      <td>0.008333</td>\n",
              "      <td>29.19</td>\n",
              "      <td>9.03</td>\n",
              "      <td>100.0</td>\n",
              "      <td>-1.09841</td>\n",
              "    </tr>\n",
              "    <tr>\n",
              "      <th>6</th>\n",
              "      <td>0.010000</td>\n",
              "      <td>29.19</td>\n",
              "      <td>9.03</td>\n",
              "      <td>100.0</td>\n",
              "      <td>-1.09893</td>\n",
              "    </tr>\n",
              "    <tr>\n",
              "      <th>7</th>\n",
              "      <td>0.011667</td>\n",
              "      <td>29.19</td>\n",
              "      <td>9.03</td>\n",
              "      <td>100.0</td>\n",
              "      <td>-1.10012</td>\n",
              "    </tr>\n",
              "    <tr>\n",
              "      <th>8</th>\n",
              "      <td>0.013333</td>\n",
              "      <td>29.19</td>\n",
              "      <td>9.03</td>\n",
              "      <td>100.0</td>\n",
              "      <td>-1.09977</td>\n",
              "    </tr>\n",
              "    <tr>\n",
              "      <th>9</th>\n",
              "      <td>0.015000</td>\n",
              "      <td>29.19</td>\n",
              "      <td>9.03</td>\n",
              "      <td>100.0</td>\n",
              "      <td>-1.09734</td>\n",
              "    </tr>\n",
              "  </tbody>\n",
              "</table>\n",
              "</div>"
            ],
            "text/plain": [
              "   Unnamed: 0  Unnamed: 1  Unnamed: 2  Unnamed: 3  Unnamed: 4\n",
              "0    0.000000       29.19        9.03       100.0    -1.10698\n",
              "1    0.001667       29.19        9.03       100.0    -1.10710\n",
              "2    0.003333       29.19        9.03       100.0    -1.10530\n",
              "3    0.005000       29.19        9.03       100.0    -1.10214\n",
              "4    0.006667       29.19        9.03       100.0    -1.09933\n",
              "5    0.008333       29.19        9.03       100.0    -1.09841\n",
              "6    0.010000       29.19        9.03       100.0    -1.09893\n",
              "7    0.011667       29.19        9.03       100.0    -1.10012\n",
              "8    0.013333       29.19        9.03       100.0    -1.09977\n",
              "9    0.015000       29.19        9.03       100.0    -1.09734"
            ]
          },
          "metadata": {
            "tags": []
          },
          "execution_count": 11
        }
      ]
    },
    {
      "cell_type": "code",
      "metadata": {
        "id": "N-nDF_Jjsnk1",
        "outputId": "bc679b04-2d7c-4f45-f639-19ae669c5b26",
        "colab": {
          "base_uri": "https://localhost:8080/",
          "height": 225
        }
      },
      "source": [
        "df.info()"
      ],
      "execution_count": 12,
      "outputs": [
        {
          "output_type": "stream",
          "text": [
            "<class 'pandas.core.frame.DataFrame'>\n",
            "RangeIndex: 58544 entries, 0 to 58543\n",
            "Data columns (total 5 columns):\n",
            " #   Column      Non-Null Count  Dtype  \n",
            "---  ------      --------------  -----  \n",
            " 0   Unnamed: 0  58544 non-null  float64\n",
            " 1   Unnamed: 1  58544 non-null  float64\n",
            " 2   Unnamed: 2  58544 non-null  float64\n",
            " 3   Unnamed: 3  58544 non-null  float64\n",
            " 4   Unnamed: 4  58517 non-null  float64\n",
            "dtypes: float64(5)\n",
            "memory usage: 2.2 MB\n"
          ],
          "name": "stdout"
        }
      ]
    },
    {
      "cell_type": "code",
      "metadata": {
        "id": "x82Er7-OuhJf",
        "outputId": "3ef8b5da-f0cb-46ea-88da-8e0955b9fc9e",
        "colab": {
          "base_uri": "https://localhost:8080/",
          "height": 206
        }
      },
      "source": [
        "df.columns = ['Time [min]', 'Temperature [°C]', 'Weight [mg]', 'Weight [%/°C]', 'Deriv. Weight']\n",
        "df.head()"
      ],
      "execution_count": 14,
      "outputs": [
        {
          "output_type": "execute_result",
          "data": {
            "text/html": [
              "<div>\n",
              "<style scoped>\n",
              "    .dataframe tbody tr th:only-of-type {\n",
              "        vertical-align: middle;\n",
              "    }\n",
              "\n",
              "    .dataframe tbody tr th {\n",
              "        vertical-align: top;\n",
              "    }\n",
              "\n",
              "    .dataframe thead th {\n",
              "        text-align: right;\n",
              "    }\n",
              "</style>\n",
              "<table border=\"1\" class=\"dataframe\">\n",
              "  <thead>\n",
              "    <tr style=\"text-align: right;\">\n",
              "      <th></th>\n",
              "      <th>Time [min]</th>\n",
              "      <th>Temperature [°C]</th>\n",
              "      <th>Weight [mg]</th>\n",
              "      <th>Weight [%/°C]</th>\n",
              "      <th>Deriv. Weight</th>\n",
              "    </tr>\n",
              "  </thead>\n",
              "  <tbody>\n",
              "    <tr>\n",
              "      <th>0</th>\n",
              "      <td>0.000000</td>\n",
              "      <td>29.19</td>\n",
              "      <td>9.03</td>\n",
              "      <td>100.0</td>\n",
              "      <td>-1.10698</td>\n",
              "    </tr>\n",
              "    <tr>\n",
              "      <th>1</th>\n",
              "      <td>0.001667</td>\n",
              "      <td>29.19</td>\n",
              "      <td>9.03</td>\n",
              "      <td>100.0</td>\n",
              "      <td>-1.10710</td>\n",
              "    </tr>\n",
              "    <tr>\n",
              "      <th>2</th>\n",
              "      <td>0.003333</td>\n",
              "      <td>29.19</td>\n",
              "      <td>9.03</td>\n",
              "      <td>100.0</td>\n",
              "      <td>-1.10530</td>\n",
              "    </tr>\n",
              "    <tr>\n",
              "      <th>3</th>\n",
              "      <td>0.005000</td>\n",
              "      <td>29.19</td>\n",
              "      <td>9.03</td>\n",
              "      <td>100.0</td>\n",
              "      <td>-1.10214</td>\n",
              "    </tr>\n",
              "    <tr>\n",
              "      <th>4</th>\n",
              "      <td>0.006667</td>\n",
              "      <td>29.19</td>\n",
              "      <td>9.03</td>\n",
              "      <td>100.0</td>\n",
              "      <td>-1.09933</td>\n",
              "    </tr>\n",
              "  </tbody>\n",
              "</table>\n",
              "</div>"
            ],
            "text/plain": [
              "   Time [min]  Temperature [°C]  Weight [mg]  Weight [%/°C]  Deriv. Weight\n",
              "0    0.000000             29.19         9.03          100.0       -1.10698\n",
              "1    0.001667             29.19         9.03          100.0       -1.10710\n",
              "2    0.003333             29.19         9.03          100.0       -1.10530\n",
              "3    0.005000             29.19         9.03          100.0       -1.10214\n",
              "4    0.006667             29.19         9.03          100.0       -1.09933"
            ]
          },
          "metadata": {
            "tags": []
          },
          "execution_count": 14
        }
      ]
    }
  ]
}